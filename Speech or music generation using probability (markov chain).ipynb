{
 "cells": [
  {
   "cell_type": "markdown",
   "metadata": {},
   "source": [
    "#### Music generation using previous states (Markov chain)"
   ]
  },
  {
   "cell_type": "code",
   "execution_count": 1,
   "metadata": {},
   "outputs": [],
   "source": [
    "### Import libraries\n",
    "import numpy as np\n",
    "import pandas as pds"
   ]
  },
  {
   "cell_type": "code",
   "execution_count": 21,
   "metadata": {},
   "outputs": [
    {
     "name": "stdout",
     "output_type": "stream",
     "text": [
      "my dear countrymen,\n",
      "\n",
      "many of you wish many-many go\n"
     ]
    }
   ],
   "source": [
    "## Importing the data\n",
    "text_path = \"english_speech_2.txt\"\n",
    "def load_text(filename):\n",
    "    with open(filename,encoding='utf8') as f:\n",
    "        return f.read().lower()\n",
    "    \n",
    "text = load_text(text_path)\n",
    "print(text[:50])"
   ]
  },
  {
   "cell_type": "code",
   "execution_count": 26,
   "metadata": {},
   "outputs": [],
   "source": [
    "## Building the possible words table\n",
    "def generateTable(data,k=4):\n",
    "    T = {}\n",
    "    for i in range(len(data)-k):\n",
    "        X = data[i:i+k]\n",
    "        Y = data[i+k]\n",
    "        if T.get(X) is None:\n",
    "            T[X] = {}\n",
    "            T[X][Y] = 1\n",
    "        else:\n",
    "            if T[X].get(Y) is None:\n",
    "                T[X][Y] = 1\n",
    "            else:\n",
    "                T[X][Y] += 1\n",
    "    return T\n",
    "\n",
    "def convertFreqIntoProb(T):     \n",
    "    for kx in T.keys():\n",
    "        s = float(sum(T[kx].values()))\n",
    "        for k in T[kx].keys():\n",
    "            T[kx][k] = T[kx][k]/s\n",
    "                \n",
    "    return T\n",
    "\n",
    "def markovChainModel(data):\n",
    "    T = generateTable(data)\n",
    "    T = convertFreqIntoProb(T)\n",
    "    return T"
   ]
  },
  {
   "cell_type": "code",
   "execution_count": 27,
   "metadata": {},
   "outputs": [],
   "source": [
    "def sample_next(ctx,T,k):\n",
    "    ctx = ctx[-k:]\n",
    "    if T.get(ctx) is None:\n",
    "        return \" \"\n",
    "    possible_Chars = list(T[ctx].keys())\n",
    "    possible_values = list(T[ctx].values())\n",
    "    return np.random.choice(possible_Chars,p=possible_values)\n",
    "\n",
    "\n",
    "def generateText(starting_sent,k=4,maxLen=1000):\n",
    "    sentence = starting_sent\n",
    "    ctx = starting_sent[-k:]\n",
    "    for ix in range(maxLen):\n",
    "        next_prediction = sample_next(ctx,model,k)\n",
    "        sentence += next_prediction\n",
    "        ctx = sentence[-k:]\n",
    "    return sentence"
   ]
  },
  {
   "cell_type": "code",
   "execution_count": 30,
   "metadata": {},
   "outputs": [
    {
     "name": "stdout",
     "output_type": "stream",
     "text": [
      "my dear countrymen, today.\n",
      "\n",
      "in our country, many of the session of our soldiers uttarakhand, himachal, manipur, telangana, and sacrifice of the tribal children live from difficulties, i bow my heartily respect the country's independence increased to the sake our country's in the tricolor flag. but in those who have seen seas with sensitive environment has registered for their like the celebrating forces, our jalianwala bapu. many of the tried to protect all the are countrymen, today, i bow down today, i bow down today the triumphs were south, it is going the full power lives, have justice of independence of for years. those heroes, i bow my heartily great men today.\n",
      "\n",
      "my devoted the hills of dreams with sense the tribal children lives, our powers of positivity and awareness, the country, along the hanging the sake of their sacrifice the celebrational ordinary greet that time, when even seas with flowers of luck.\n",
      "\n",
      "these days, reports of the world's sixth largest economy. in ordinary forces, our\n"
     ]
    }
   ],
   "source": [
    "model = markovChainModel(text)\n",
    "print(generateText(\"my dear\"))"
   ]
  },
  {
   "cell_type": "code",
   "execution_count": null,
   "metadata": {},
   "outputs": [],
   "source": []
  }
 ],
 "metadata": {
  "kernelspec": {
   "display_name": "Python 3",
   "language": "python",
   "name": "python3"
  },
  "language_info": {
   "codemirror_mode": {
    "name": "ipython",
    "version": 3
   },
   "file_extension": ".py",
   "mimetype": "text/x-python",
   "name": "python",
   "nbconvert_exporter": "python",
   "pygments_lexer": "ipython3",
   "version": "3.7.4"
  }
 },
 "nbformat": 4,
 "nbformat_minor": 2
}
