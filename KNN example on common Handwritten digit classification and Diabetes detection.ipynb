{
 "cells": [
  {
   "cell_type": "markdown",
   "metadata": {},
   "source": [
    "#### Handwritten digits classification using KNN"
   ]
  },
  {
   "cell_type": "code",
   "execution_count": 6,
   "metadata": {},
   "outputs": [
    {
     "name": "stdout",
     "output_type": "stream",
     "text": [
      "<class 'numpy.ndarray'> <class 'numpy.ndarray'> \n",
      "\n",
      "\n",
      "\n",
      "Shape of X is (1797, 64)\n",
      "Shape of Y is (1797,)\n"
     ]
    }
   ],
   "source": [
    "# Import data \n",
    "from sklearn.datasets import load_digits\n",
    "\n",
    "ld = load_digits()\n",
    "X = ld.data\n",
    "Y = ld.target\n",
    "\n",
    "### Check the data types\n",
    "print(type(X),type(Y),\"\\n\\n\\n\")\n",
    "\n",
    "### Check the shape of the data\n",
    "print(\"Shape of X is {}\".format(X.shape))\n",
    "print(\"Shape of Y is {}\".format(Y.shape))"
   ]
  },
  {
   "cell_type": "code",
   "execution_count": 9,
   "metadata": {},
   "outputs": [
    {
     "data": {
      "image/png": "[encoded data removed]",
      "text/plain": [
       "<Figure size 576x396 with 1 Axes>"
      ]
     },
     "metadata": {},
     "output_type": "display_data"
    }
   ],
   "source": [
    "### Visulize the data\n",
    "import matplotlib.pyplot as plt\n",
    "\n",
    "img = X[0].reshape((8,8))\n",
    "plt.style.use(\"seaborn\") ## My fav\n",
    "plt.imshow(img)\n",
    "plt.axis(\"off\")\n",
    "plt.show()"
   ]
  },
  {
   "cell_type": "code",
   "execution_count": 15,
   "metadata": {},
   "outputs": [],
   "source": [
    "## Modeling data\n",
    "import numpy as np\n",
    "\n",
    "class KNN:\n",
    "    def __init__(self,X,Y):\n",
    "        \"\"\"Initialize the data\"\"\"\n",
    "        self.X = X\n",
    "        self.Y = Y\n",
    "    def distance(self,x1,x2):\n",
    "        \"\"\"Return the distance between all the features of two data\"\"\"\n",
    "        return (np.sum((x1-x2)**2))\n",
    "    def predict(self,query_point,k):\n",
    "        \"\"\"Return the prediction\"\"\"\n",
    "        X = self.X\n",
    "        Y = self.Y\n",
    "        m = X.shape[0]\n",
    "        vals = []\n",
    "        for i in range(m):\n",
    "            d = self.distance(X[i],query_point)\n",
    "            vals.append((d,Y[i]))\n",
    "        vals = sorted(vals)\n",
    "        vals = vals[:k]\n",
    "        vals = np.array(vals)\n",
    "        counts = np.unique(vals[:,1],return_counts=True)\n",
    "        return counts[0][counts[1].argmax()]"
   ]
  },
  {
   "cell_type": "code",
   "execution_count": 22,
   "metadata": {},
   "outputs": [
    {
     "name": "stdout",
     "output_type": "stream",
     "text": [
      "Prediction from the algorithm 1.0\n",
      "Actual prediction 1\n"
     ]
    }
   ],
   "source": [
    "kn = KNN(X,Y)\n",
    "print(\"Prediction from the algorithm {}\".format(kn.predict(X[1],6))) ##Prediction from the algo\n",
    "print(\"Actual prediction {}\".format(Y[1]))"
   ]
  },
  {
   "cell_type": "code",
   "execution_count": 46,
   "metadata": {},
   "outputs": [
    {
     "name": "stdout",
     "output_type": "stream",
     "text": [
      "       Pregnancies     Glucose  BloodPressure  SkinThickness     Insulin  \\\n",
      "count   576.000000  576.000000     576.000000     576.000000  576.000000   \n",
      "mean      3.758681  119.975694      68.826389      20.364583   76.166667   \n",
      "std       3.328783   31.512914      20.285812      15.893856  109.193550   \n",
      "min       0.000000    0.000000       0.000000       0.000000    0.000000   \n",
      "25%       1.000000   99.000000      62.000000       0.000000    0.000000   \n",
      "50%       3.000000  116.000000      72.000000      22.000000   36.000000   \n",
      "75%       6.000000  139.000000      80.000000      32.000000  120.000000   \n",
      "max      17.000000  199.000000     122.000000      63.000000  744.000000   \n",
      "\n",
      "              BMI  DiabetesPedigreeFunction         Age  \n",
      "count  576.000000                576.000000  576.000000  \n",
      "mean    31.857292                  0.481519   32.954861  \n",
      "std      8.134926                  0.336910   11.878137  \n",
      "min      0.000000                  0.078000   21.000000  \n",
      "25%     26.975000                  0.247750   24.000000  \n",
      "50%     32.000000                  0.381500   29.000000  \n",
      "75%     36.725000                  0.641250   40.000000  \n",
      "max     67.100000                  2.420000   81.000000   \n",
      "\n",
      "\n",
      "\n",
      "(576, 8) (576, 1)\n"
     ]
    }
   ],
   "source": [
    "## Training on the Dibetes detection challenge\n",
    "## Extracting data\n",
    "import pandas as pds\n",
    "XDF = pds.read_csv('Diabetes_XTrain.csv')\n",
    "YDF = pds.read_csv('Diabetes_YTrain.csv')\n",
    "\n",
    "## Stastical data analysis data \n",
    "print(XDF.describe(),\"\\n\\n\\n\")\n",
    "\n",
    "## Extracting values\n",
    "uncleanedX = XDF.values\n",
    "Y = YDF.values\n",
    "\n",
    "print(uncleanedX.shape,Y.shape)"
   ]
  },
  {
   "cell_type": "code",
   "execution_count": 29,
   "metadata": {},
   "outputs": [
    {
     "name": "stdout",
     "output_type": "stream",
     "text": [
      "-2.4671622769447922e-17 1.0\n"
     ]
    }
   ],
   "source": [
    "## Standardisation\n",
    "changedX = (uncleanedX - uncleanedX.mean())/uncleanedX.std()\n",
    "\n",
    "print(changedX.mean(),changedX.std())"
   ]
  },
  {
   "cell_type": "code",
   "execution_count": 38,
   "metadata": {},
   "outputs": [
    {
     "name": "stdout",
     "output_type": "stream",
     "text": [
      "Prediction from the algorithm [0]\n",
      "Actual prediction [0]\n"
     ]
    }
   ],
   "source": [
    "kn = KNN(changedX,Y)\n",
    "print(\"Prediction from the algorithm {}\".format(kn.predict(changedX[10],6))) ##Prediction from the algo\n",
    "print(\"Actual prediction {}\".format(Y[10]))"
   ]
  },
  {
   "cell_type": "code",
   "execution_count": 41,
   "metadata": {},
   "outputs": [
    {
     "name": "stdout",
     "output_type": "stream",
     "text": [
      "The accuracy from the model is 0.6510416666666666\n"
     ]
    }
   ],
   "source": [
    "## Accuracy\n",
    "yPred = []\n",
    "for i in range(changedX.shape[0]):\n",
    "    yPred.append(kn.predict(changedX[10],6))\n",
    "print(\"The accuracy from the model is {}\".format((yPred==Y).sum()/len(yPred)))"
   ]
  },
  {
   "cell_type": "code",
   "execution_count": 47,
   "metadata": {},
   "outputs": [
    {
     "name": "stdout",
     "output_type": "stream",
     "text": [
      "       Pregnancies     Glucose  BloodPressure  SkinThickness     Insulin  \\\n",
      "count   192.000000  192.000000     192.000000     192.000000  192.000000   \n",
      "mean      4.104167  123.651042      69.942708      21.052083   90.697917   \n",
      "std       3.485134   33.245684      16.269068      16.156868  131.451830   \n",
      "min       0.000000    0.000000       0.000000       0.000000    0.000000   \n",
      "25%       1.000000  101.500000      64.000000       0.000000    0.000000   \n",
      "50%       3.000000  120.000000      72.000000      25.500000    9.000000   \n",
      "75%       6.250000  145.250000      78.500000      32.000000  140.500000   \n",
      "max      15.000000  198.000000     108.000000      99.000000  846.000000   \n",
      "\n",
      "              BMI  DiabetesPedigreeFunction         Age  \n",
      "count  192.000000                192.000000  192.000000  \n",
      "mean    32.398438                  0.442948   34.098958  \n",
      "std      7.083182                  0.313054   11.386388  \n",
      "min      0.000000                  0.085000   21.000000  \n",
      "25%     28.175000                  0.207000   25.000000  \n",
      "50%     32.400000                  0.346500   30.000000  \n",
      "75%     36.150000                  0.570500   41.000000  \n",
      "max     52.300000                  1.893000   69.000000   \n",
      "\n",
      "\n",
      "\n",
      "-6.47630097698008e-17 1.0\n"
     ]
    }
   ],
   "source": [
    "## Prediction on the test data from challenge\n",
    "XtestDF = pds.read_csv('Diabetes_Xtest(1).csv')\n",
    "print(XtestDF.describe(),\"\\n\\n\\n\")\n",
    "\n",
    "uncleanedTestX = XtestDF.values\n",
    "\n",
    "XTest = (uncleanedTestX - uncleanedTestX.mean())/uncleanedTestX.std()\n",
    "print(XTest.mean(),XTest.std())"
   ]
  },
  {
   "cell_type": "code",
   "execution_count": 55,
   "metadata": {},
   "outputs": [],
   "source": [
    "yPred = []\n",
    "for i in range(XTest.shape[0]):\n",
    "    yPred.append(kn.predict(XTest[i],5))\n",
    "df = pds.DataFrame(yPred)\n",
    "df.to_csv('Y_Test.csv',index=False)"
   ]
  },
  {
   "cell_type": "code",
   "execution_count": null,
   "metadata": {},
   "outputs": [],
   "source": []
  }
 ],
 "metadata": {
  "kernelspec": {
   "display_name": "Python 3",
   "language": "python",
   "name": "python3"
  },
  "language_info": {
   "codemirror_mode": {
    "name": "ipython",
    "version": 3
   },
   "file_extension": ".py",
   "mimetype": "text/x-python",
   "name": "python",
   "nbconvert_exporter": "python",
   "pygments_lexer": "ipython3",
   "version": "3.7.4"
  }
 },
 "nbformat": 4,
 "nbformat_minor": 2
}
