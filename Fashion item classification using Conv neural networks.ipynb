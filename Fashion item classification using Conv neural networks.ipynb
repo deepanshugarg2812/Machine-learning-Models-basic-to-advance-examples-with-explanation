{
 "cells": [
  {
   "cell_type": "markdown",
   "metadata": {},
   "source": [
    "#### CNN example for the fashion items classification"
   ]
  },
  {
   "cell_type": "code",
   "execution_count": 52,
   "metadata": {},
   "outputs": [],
   "source": [
    "### Libraries\n",
    "import numpy as np\n",
    "import pandas as pds\n",
    "from keras.models import Sequential\n",
    "from keras.layers import Dense,Conv2D,MaxPool2D,Flatten\n",
    "from keras.utils.np_utils import to_categorical\n",
    "from keras.callbacks import ModelCheckpoint,EarlyStopping"
   ]
  },
  {
   "cell_type": "code",
   "execution_count": 74,
   "metadata": {},
   "outputs": [
    {
     "name": "stdout",
     "output_type": "stream",
     "text": [
      "<class 'pandas.core.frame.DataFrame'>\n",
      "The shape of the X is (20000, 784)\n",
      "The shape of the Y is (20000,)\n"
     ]
    }
   ],
   "source": [
    "### Extracting the data\n",
    "train_data = pds.read_csv('fashion-mnist_train.csv')\n",
    "print(type(train_data))\n",
    "train_data.head(n=10)\n",
    "\n",
    "#Extracting the X and Y from it\n",
    "data = train_data.values\n",
    "X = data[:20000,1:]\n",
    "X = X/255.0\n",
    "Y = data[:20000,0]\n",
    "\n",
    "print(\"The shape of the X is {}\".format(X.shape))\n",
    "print(\"The shape of the Y is {}\".format(Y.shape))"
   ]
  },
  {
   "cell_type": "code",
   "execution_count": 75,
   "metadata": {},
   "outputs": [
    {
     "name": "stdout",
     "output_type": "stream",
     "text": [
      "(20000, 10) (20000, 28, 28, 1)\n"
     ]
    }
   ],
   "source": [
    "### Preparing the data for the traing\n",
    "Y_ = to_categorical(Y)\n",
    "X_ = X.reshape((-1,28,28,1))\n",
    "print(Y_.shape,X_.shape)"
   ]
  },
  {
   "cell_type": "code",
   "execution_count": 77,
   "metadata": {},
   "outputs": [
    {
     "name": "stdout",
     "output_type": "stream",
     "text": [
      "The shape of the X_Train is (16000, 28, 28, 1)\n",
      "The shape of the Y_Train is (16000, 10)\n",
      "The shape of the X_Test is (4000, 28, 28, 1)\n",
      "The shape of the Y_Test is (4000, 10)\n"
     ]
    }
   ],
   "source": [
    "### Dividing the data into train and test\n",
    "from sklearn.model_selection import train_test_split\n",
    "X_Train,X_Test,Y_Train,Y_Test = train_test_split(X_,Y_,test_size = 0.2)\n",
    "\n",
    "print(\"The shape of the X_Train is {}\".format(X_Train.shape))\n",
    "print(\"The shape of the Y_Train is {}\".format(Y_Train.shape))\n",
    "print(\"The shape of the X_Test is {}\".format(X_Test.shape))\n",
    "print(\"The shape of the Y_Test is {}\".format(Y_Test.shape))"
   ]
  },
  {
   "cell_type": "code",
   "execution_count": 78,
   "metadata": {},
   "outputs": [
    {
     "data": {
      "image/png": "[encoded data removed]",
      "text/plain": [
       "<Figure size 576x396 with 1 Axes>"
      ]
     },
     "metadata": {},
     "output_type": "display_data"
    }
   ],
   "source": [
    "### Visulizing the data\n",
    "import matplotlib.pyplot as plt\n",
    "plt.style.use(\"seaborn\")\n",
    "\n",
    "def display(img):\n",
    "    img_reshaped = img.reshape((28,28))\n",
    "    plt.imshow(img_reshaped)\n",
    "    plt.axis(\"off\")\n",
    "    plt.show()\n",
    "\n",
    "display(X_Train[0])"
   ]
  },
  {
   "cell_type": "code",
   "execution_count": 79,
   "metadata": {},
   "outputs": [
    {
     "name": "stdout",
     "output_type": "stream",
     "text": [
      "Model: \"fashion_data\"\n",
      "_________________________________________________________________\n",
      "Layer (type)                 Output Shape              Param #   \n",
      "=================================================================\n",
      "conv2d_19 (Conv2D)           (None, 26, 26, 32)        320       \n",
      "_________________________________________________________________\n",
      "max_pooling2d_13 (MaxPooling (None, 13, 13, 32)        0         \n",
      "_________________________________________________________________\n",
      "conv2d_20 (Conv2D)           (None, 11, 11, 64)        18496     \n",
      "_________________________________________________________________\n",
      "max_pooling2d_14 (MaxPooling (None, 5, 5, 64)          0         \n",
      "_________________________________________________________________\n",
      "conv2d_21 (Conv2D)           (None, 3, 3, 64)          36928     \n",
      "_________________________________________________________________\n",
      "flatten_6 (Flatten)          (None, 576)               0         \n",
      "_________________________________________________________________\n",
      "dense_11 (Dense)             (None, 64)                36928     \n",
      "_________________________________________________________________\n",
      "dense_12 (Dense)             (None, 10)                650       \n",
      "=================================================================\n",
      "Total params: 93,322\n",
      "Trainable params: 93,322\n",
      "Non-trainable params: 0\n",
      "_________________________________________________________________\n"
     ]
    }
   ],
   "source": [
    "### Model building\n",
    "model = Sequential(name = 'fashion_data')\n",
    "model.add(Conv2D(32,(3,3),activation='relu',input_shape=(28,28,1)))\n",
    "model.add(MaxPool2D((2,2)))\n",
    "model.add(Conv2D(64,(3,3),activation='relu',input_shape=(28,28,1)))\n",
    "model.add(MaxPool2D((2,2)))\n",
    "model.add(Conv2D(64,(3,3),activation='relu',input_shape=(28,28,1)))\n",
    "model.add(Flatten())\n",
    "model.add(Dense(64,activation='relu'))\n",
    "model.add(Dense(10,activation='softmax'))\n",
    "model.summary()"
   ]
  },
  {
   "cell_type": "code",
   "execution_count": 80,
   "metadata": {},
   "outputs": [
    {
     "name": "stdout",
     "output_type": "stream",
     "text": [
      "Train on 14400 samples, validate on 1600 samples\n",
      "Epoch 1/20\n",
      "14400/14400 [==============================] - 11s 773us/step - loss: 1.0195 - accuracy: 0.6503 - val_loss: 0.6683 - val_accuracy: 0.7425\n",
      "Epoch 2/20\n",
      "14400/14400 [==============================] - 12s 827us/step - loss: 0.5942 - accuracy: 0.7767 - val_loss: 0.5367 - val_accuracy: 0.7862\n",
      "Epoch 3/20\n",
      "14400/14400 [==============================] - 9s 642us/step - loss: 0.5037 - accuracy: 0.8087 - val_loss: 0.4918 - val_accuracy: 0.8169\n",
      "Epoch 4/20\n",
      "14400/14400 [==============================] - 9s 629us/step - loss: 0.4676 - accuracy: 0.8262 - val_loss: 0.4342 - val_accuracy: 0.8281\n",
      "Epoch 5/20\n",
      "14400/14400 [==============================] - 11s 759us/step - loss: 0.4210 - accuracy: 0.8445 - val_loss: 0.4189 - val_accuracy: 0.8406\n",
      "Epoch 6/20\n",
      "14400/14400 [==============================] - 11s 780us/step - loss: 0.3899 - accuracy: 0.8551 - val_loss: 0.3789 - val_accuracy: 0.8575\n",
      "Epoch 7/20\n",
      "14400/14400 [==============================] - 12s 826us/step - loss: 0.3651 - accuracy: 0.8669 - val_loss: 0.3744 - val_accuracy: 0.8569\n",
      "Epoch 8/20\n",
      "14400/14400 [==============================] - 11s 741us/step - loss: 0.3459 - accuracy: 0.8713 - val_loss: 0.3394 - val_accuracy: 0.8744\n",
      "Epoch 9/20\n",
      "14400/14400 [==============================] - 11s 738us/step - loss: 0.3274 - accuracy: 0.8784 - val_loss: 0.3312 - val_accuracy: 0.8813\n",
      "Epoch 10/20\n",
      "14400/14400 [==============================] - 11s 731us/step - loss: 0.3152 - accuracy: 0.8833 - val_loss: 0.3323 - val_accuracy: 0.8719\n",
      "Epoch 11/20\n",
      "14400/14400 [==============================] - 11s 791us/step - loss: 0.2949 - accuracy: 0.8908 - val_loss: 0.3133 - val_accuracy: 0.8875\n",
      "Epoch 12/20\n",
      "14400/14400 [==============================] - 11s 752us/step - loss: 0.2822 - accuracy: 0.8975 - val_loss: 0.3430 - val_accuracy: 0.8694\n",
      "Epoch 13/20\n",
      "14400/14400 [==============================] - 12s 823us/step - loss: 0.2699 - accuracy: 0.8998 - val_loss: 0.3119 - val_accuracy: 0.8931\n",
      "Epoch 14/20\n",
      "14400/14400 [==============================] - 11s 738us/step - loss: 0.2600 - accuracy: 0.9026 - val_loss: 0.3015 - val_accuracy: 0.8919\n",
      "Epoch 15/20\n",
      "14400/14400 [==============================] - 11s 794us/step - loss: 0.2481 - accuracy: 0.9069 - val_loss: 0.3079 - val_accuracy: 0.8875\n",
      "Epoch 16/20\n",
      "14400/14400 [==============================] - 11s 763us/step - loss: 0.2338 - accuracy: 0.9130 - val_loss: 0.3296 - val_accuracy: 0.8719\n",
      "Epoch 17/20\n",
      "14400/14400 [==============================] - 11s 749us/step - loss: 0.2284 - accuracy: 0.9136 - val_loss: 0.3084 - val_accuracy: 0.8838\n",
      "Epoch 18/20\n",
      "14400/14400 [==============================] - 10s 718us/step - loss: 0.2158 - accuracy: 0.9187 - val_loss: 0.3068 - val_accuracy: 0.8825\n",
      "Epoch 19/20\n",
      "14400/14400 [==============================] - 11s 735us/step - loss: 0.2048 - accuracy: 0.9246 - val_loss: 0.2983 - val_accuracy: 0.8875\n",
      "Epoch 20/20\n",
      "14400/14400 [==============================] - 11s 750us/step - loss: 0.1962 - accuracy: 0.9290 - val_loss: 0.3106 - val_accuracy: 0.8881\n"
     ]
    }
   ],
   "source": [
    "model.compile(optimizer='adam',loss='categorical_crossentropy',metrics=['accuracy'])\n",
    "hist = model.fit(X_Train,Y_Train,epochs=20,validation_split=0.1,batch_size=128)"
   ]
  },
  {
   "cell_type": "code",
   "execution_count": 81,
   "metadata": {},
   "outputs": [
    {
     "data": {
      "image/png": "[encoded data removed]",
      "text/plain": [
       "<Figure size 576x396 with 1 Axes>"
      ]
     },
     "metadata": {},
     "output_type": "display_data"
    }
   ],
   "source": [
    "plt.plot(hist.history['loss'],color='red',label=\"loss\")\n",
    "plt.plot(hist.history['val_loss'],color='yellow',label=\"val_loss\")\n",
    "plt.plot(hist.history['val_accuracy'],color='blue',label=\"val_accuracy\")\n",
    "plt.plot(hist.history['accuracy'],color='green',label=\"accuracy\")\n",
    "plt.legend()\n",
    "plt.show()"
   ]
  },
  {
   "cell_type": "code",
   "execution_count": 82,
   "metadata": {},
   "outputs": [
    {
     "name": "stdout",
     "output_type": "stream",
     "text": [
      "4000/4000 [==============================] - 1s 223us/step\n"
     ]
    },
    {
     "data": {
      "text/plain": [
       "[0.341614795088768, 0.8827499747276306]"
      ]
     },
     "execution_count": 82,
     "metadata": {},
     "output_type": "execute_result"
    }
   ],
   "source": [
    "model.evaluate(X_Test,Y_Test)"
   ]
  },
  {
   "cell_type": "code",
   "execution_count": null,
   "metadata": {},
   "outputs": [],
   "source": []
  }
 ],
 "metadata": {
  "kernelspec": {
   "display_name": "Python 3",
   "language": "python",
   "name": "python3"
  },
  "language_info": {
   "codemirror_mode": {
    "name": "ipython",
    "version": 3
   },
   "file_extension": ".py",
   "mimetype": "text/x-python",
   "name": "python",
   "nbconvert_exporter": "python",
   "pygments_lexer": "ipython3",
   "version": "3.7.4"
  }
 },
 "nbformat": 4,
 "nbformat_minor": 2
}
