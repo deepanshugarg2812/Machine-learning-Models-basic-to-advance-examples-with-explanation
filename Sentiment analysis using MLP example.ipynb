{
  "nbformat": 4,
  "nbformat_minor": 0,
  "metadata": {
    "colab": {
      "name": "Untitled22.ipynb",
      "provenance": []
    },
    "kernelspec": {
      "name": "python3",
      "display_name": "Python 3"
    },
    "accelerator": "GPU"
  },
  "cells": [
    {
      "cell_type": "markdown",
      "metadata": {
        "id": "1ALPs17PwgW5",
        "colab_type": "text"
      },
      "source": [
        "### Sentiment analysis using MLP"
      ]
    },
    {
      "cell_type": "code",
      "metadata": {
        "id": "MdhhRRP1wfwo",
        "colab_type": "code",
        "colab": {
          "base_uri": "https://localhost:8080/",
          "height": 35
        },
        "outputId": "6f6ceeba-ea60-45b0-878d-ac1e89ec23db"
      },
      "source": [
        "### Loading the imp libraries\n",
        "import numpy as np\n",
        "from keras.layers import Dense\n",
        "from keras.models import Sequential\n",
        "from keras.datasets import imdb\n",
        "from keras.utils import np_utils"
      ],
      "execution_count": 1,
      "outputs": [
        {
          "output_type": "stream",
          "text": [
            "Using TensorFlow backend.\n"
          ],
          "name": "stderr"
        }
      ]
    },
    {
      "cell_type": "code",
      "metadata": {
        "id": "1VbvBPFDwlhR",
        "colab_type": "code",
        "colab": {
          "base_uri": "https://localhost:8080/",
          "height": 72
        },
        "outputId": "e5ed2b63-b96f-467f-8628-e4649e22732e"
      },
      "source": [
        "(XT,YT) , (xt,yt) = imdb.load_data(num_words=10000)\n",
        "print(type(XT),type(YT),type(xt),type(yt))"
      ],
      "execution_count": 2,
      "outputs": [
        {
          "output_type": "stream",
          "text": [
            "Downloading data from https://s3.amazonaws.com/text-datasets/imdb.npz\n",
            "17465344/17464789 [==============================] - 3s 0us/step\n",
            "<class 'numpy.ndarray'> <class 'numpy.ndarray'> <class 'numpy.ndarray'> <class 'numpy.ndarray'>\n"
          ],
          "name": "stdout"
        }
      ]
    },
    {
      "cell_type": "code",
      "metadata": {
        "id": "gxHsTksUwmrb",
        "colab_type": "code",
        "colab": {
          "base_uri": "https://localhost:8080/",
          "height": 165
        },
        "outputId": "a94e867c-eeea-4c17-a22b-549f826acd91"
      },
      "source": [
        "print(\"The shape of Xtrain is {}\".format(XT.shape))\n",
        "print(\"The shape of Ytrain is {}\".format(YT.shape))\n",
        "print(\"The shape of xtest is {}\".format(xt.shape))\n",
        "print(\"The shape of ytest is {} \\n\\n\\n\".format(yt.shape))\n",
        "\n",
        "print(\"The output type is {}\".format(np.unique(YT)))"
      ],
      "execution_count": 3,
      "outputs": [
        {
          "output_type": "stream",
          "text": [
            "The shape of Xtrain is (25000,)\n",
            "The shape of Ytrain is (25000,)\n",
            "The shape of xtest is (25000,)\n",
            "The shape of ytest is (25000,) \n",
            "\n",
            "\n",
            "\n",
            "The output type is [0 1]\n"
          ],
          "name": "stdout"
        }
      ]
    },
    {
      "cell_type": "code",
      "metadata": {
        "id": "swcKUvrNwnw9",
        "colab_type": "code",
        "colab": {}
      },
      "source": [
        "y_ = np_utils.to_categorical(YT)"
      ],
      "execution_count": 4,
      "outputs": []
    },
    {
      "cell_type": "code",
      "metadata": {
        "id": "Ui1qwdi1wpbD",
        "colab_type": "code",
        "colab": {
          "base_uri": "https://localhost:8080/",
          "height": 54
        },
        "outputId": "e46fe94e-bec3-492d-e237-86928e7fc4f6"
      },
      "source": [
        "import numpy as np\n",
        "def vectorize_sentences(sentences,dim=10000):\n",
        "    outputs = np.zeros((len(sentences),dim))\n",
        "    for i,idx in enumerate(sentences):\n",
        "        outputs[i,idx] = 1\n",
        "    return outputs\n",
        "\n",
        "X_train = vectorize_sentences(XT)\n",
        "X_test = vectorize_sentences(xt)\n",
        "\n",
        "print(X_train.shape)\n",
        "print(X_test.shape)"
      ],
      "execution_count": 5,
      "outputs": [
        {
          "output_type": "stream",
          "text": [
            "(25000, 10000)\n",
            "(25000, 10000)\n"
          ],
          "name": "stdout"
        }
      ]
    },
    {
      "cell_type": "code",
      "metadata": {
        "id": "eEaVnh8Pwq8m",
        "colab_type": "code",
        "colab": {
          "base_uri": "https://localhost:8080/",
          "height": 312
        },
        "outputId": "73d93ec5-35fb-4c8d-aafc-6198c37fcc89"
      },
      "source": [
        "model = Sequential()\n",
        "model.add(Dense(256,activation = 'relu',input_shape=(10000,)))\n",
        "model.add(Dense(128,activation = 'relu'))\n",
        "model.add(Dense(32,activation = 'relu'))\n",
        "model.add(Dense(2,activation = 'sigmoid'))\n",
        "model.summary()"
      ],
      "execution_count": 6,
      "outputs": [
        {
          "output_type": "stream",
          "text": [
            "Model: \"sequential_1\"\n",
            "_________________________________________________________________\n",
            "Layer (type)                 Output Shape              Param #   \n",
            "=================================================================\n",
            "dense_1 (Dense)              (None, 256)               2560256   \n",
            "_________________________________________________________________\n",
            "dense_2 (Dense)              (None, 128)               32896     \n",
            "_________________________________________________________________\n",
            "dense_3 (Dense)              (None, 32)                4128      \n",
            "_________________________________________________________________\n",
            "dense_4 (Dense)              (None, 2)                 66        \n",
            "=================================================================\n",
            "Total params: 2,597,346\n",
            "Trainable params: 2,597,346\n",
            "Non-trainable params: 0\n",
            "_________________________________________________________________\n"
          ],
          "name": "stdout"
        }
      ]
    },
    {
      "cell_type": "code",
      "metadata": {
        "id": "_FClX8sFwxrE",
        "colab_type": "code",
        "colab": {
          "base_uri": "https://localhost:8080/",
          "height": 239
        },
        "outputId": "4f2dd356-20df-4314-a837-518254c47fc8"
      },
      "source": [
        "model.compile(optimizer='adam',loss='categorical_crossentropy')\n",
        "model.fit(X_train,y_,epochs=5,batch_size=32,validation_split=0.2)"
      ],
      "execution_count": 7,
      "outputs": [
        {
          "output_type": "stream",
          "text": [
            "Train on 20000 samples, validate on 5000 samples\n",
            "Epoch 1/5\n",
            "20000/20000 [==============================] - 6s 295us/step - loss: 0.3248 - val_loss: 0.2870\n",
            "Epoch 2/5\n",
            "20000/20000 [==============================] - 4s 207us/step - loss: 0.1503 - val_loss: 0.3283\n",
            "Epoch 3/5\n",
            "20000/20000 [==============================] - 4s 207us/step - loss: 0.0630 - val_loss: 0.4041\n",
            "Epoch 4/5\n",
            "20000/20000 [==============================] - 4s 208us/step - loss: 0.0233 - val_loss: 0.6920\n",
            "Epoch 5/5\n",
            "20000/20000 [==============================] - 4s 210us/step - loss: 0.0140 - val_loss: 0.7968\n"
          ],
          "name": "stdout"
        },
        {
          "output_type": "execute_result",
          "data": {
            "text/plain": [
              "<keras.callbacks.callbacks.History at 0x7fe80fb58c88>"
            ]
          },
          "metadata": {
            "tags": []
          },
          "execution_count": 7
        }
      ]
    },
    {
      "cell_type": "code",
      "metadata": {
        "id": "sUaDXkiww2eX",
        "colab_type": "code",
        "colab": {
          "base_uri": "https://localhost:8080/",
          "height": 35
        },
        "outputId": "ecf6775e-4334-49e4-84a5-c65f93c85029"
      },
      "source": [
        "y_Pred = model.predict_classes(X_test)\n",
        "acc = (y_Pred==yt).sum()/len(y_Pred)\n",
        "print(\"Accuracy is {}\".format(acc))"
      ],
      "execution_count": 9,
      "outputs": [
        {
          "output_type": "stream",
          "text": [
            "Accuracy is 0.86064\n"
          ],
          "name": "stdout"
        }
      ]
    },
    {
      "cell_type": "code",
      "metadata": {
        "id": "LFKXYz16xA4L",
        "colab_type": "code",
        "colab": {}
      },
      "source": [
        ""
      ],
      "execution_count": null,
      "outputs": []
    }
  ]
}