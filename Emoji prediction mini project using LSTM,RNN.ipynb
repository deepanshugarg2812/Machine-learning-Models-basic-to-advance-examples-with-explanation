{
 "cells": [
  {
   "cell_type": "markdown",
   "metadata": {},
   "source": [
    "#### Emoji prediction"
   ]
  },
  {
   "cell_type": "code",
   "execution_count": 57,
   "metadata": {},
   "outputs": [],
   "source": [
    "## Libraries\n",
    "import numpy as np\n",
    "import pandas as pds\n",
    "from keras.layers import LSTM,Dense\n",
    "from keras.models import Sequential\n",
    "from keras.utils import to_categorical\n",
    "import emoji"
   ]
  },
  {
   "cell_type": "code",
   "execution_count": 58,
   "metadata": {},
   "outputs": [
    {
     "name": "stdout",
     "output_type": "stream",
     "text": [
      "The shape of X is (132,)\n",
      "The shape of Y is (132,)\n"
     ]
    }
   ],
   "source": [
    "## Extracting the data\n",
    "data_X = pds.read_csv('train_emoji.csv',header=None)\n",
    "data_X.head(n=10)\n",
    "\n",
    "## Making input and output\n",
    "X = data_X[0].values\n",
    "Y = data_X[1].values\n",
    "print(\"The shape of X is {}\".format(X.shape))\n",
    "print(\"The shape of Y is {}\".format(Y.shape))"
   ]
  },
  {
   "cell_type": "code",
   "execution_count": 59,
   "metadata": {},
   "outputs": [],
   "source": [
    "emoji_dictionary = {\"0\": \"\\u2764\\uFE0F\",    # :heart: prints a black instead of red heart depending on the font\n",
    "                    \"1\": \":baseball:\",\n",
    "                    \"2\": \":beaming_face_with_smiling_eyes:\",\n",
    "                    \"3\": \":downcast_face_with_sweat:\",\n",
    "                    \"4\": \":fork_and_knife:\",\n",
    "                   }"
   ]
  },
  {
   "cell_type": "code",
   "execution_count": 60,
   "metadata": {},
   "outputs": [
    {
     "name": "stdout",
     "output_type": "stream",
     "text": [
      "never talk to me again 😓\n",
      "I am proud of your achievements 😁\n",
      "It is the worst day in my life 😓\n",
      "Miss you so much ❤️\n",
      "food is life 🍴\n",
      "I love you mum ❤️\n",
      "Stop saying bullshit 😓\n",
      "congratulations on your acceptance 😁\n",
      "The assignment is too long  😓\n",
      "I want to go play ⚾\n"
     ]
    }
   ],
   "source": [
    "## Visulizing the emoji\n",
    "for i in range(10):\n",
    "    print(X[i],emoji.emojize(emoji_dictionary[str(Y[i])]))"
   ]
  },
  {
   "cell_type": "code",
   "execution_count": 61,
   "metadata": {},
   "outputs": [],
   "source": [
    "## Creating thr word-vec\n",
    "## Reading the vector\n",
    "embedding = {}\n",
    "with open('glove.6B.50d.txt',encoding='utf-8') as f:\n",
    "    for line in f:\n",
    "        values = line.split()\n",
    "        word = values[0]\n",
    "        coeffs = np.asarray(values[1:],dtype='float32')\n",
    "        embedding[word] = coeffs"
   ]
  },
  {
   "cell_type": "code",
   "execution_count": 62,
   "metadata": {},
   "outputs": [
    {
     "name": "stdout",
     "output_type": "stream",
     "text": [
      "(132, 5)\n",
      "(10, 50)\n"
     ]
    }
   ],
   "source": [
    "## Preprocess data\n",
    "X_ = np.zeros((X.shape[0],10,50))\n",
    "for i in range(X.shape[0]):\n",
    "    X_split = X[i].lower().split()\n",
    "    for j in range(len(X_split)):\n",
    "        X_[i][j] = embedding[X_split[j]]\n",
    "        \n",
    "Y_ = to_categorical(Y)\n",
    "print(Y_.shape)\n",
    "print(X_[0].shape)"
   ]
  },
  {
   "cell_type": "code",
   "execution_count": 63,
   "metadata": {},
   "outputs": [
    {
     "name": "stdout",
     "output_type": "stream",
     "text": [
      "Model: \"sequential_2\"\n",
      "_________________________________________________________________\n",
      "Layer (type)                 Output Shape              Param #   \n",
      "=================================================================\n",
      "lstm_3 (LSTM)                (None, 10, 64)            29440     \n",
      "_________________________________________________________________\n",
      "dropout_3 (Dropout)          (None, 10, 64)            0         \n",
      "_________________________________________________________________\n",
      "lstm_4 (LSTM)                (None, 64)                33024     \n",
      "_________________________________________________________________\n",
      "dropout_4 (Dropout)          (None, 64)                0         \n",
      "_________________________________________________________________\n",
      "dense_2 (Dense)              (None, 5)                 325       \n",
      "_________________________________________________________________\n",
      "activation_2 (Activation)    (None, 5)                 0         \n",
      "=================================================================\n",
      "Total params: 62,789\n",
      "Trainable params: 62,789\n",
      "Non-trainable params: 0\n",
      "_________________________________________________________________\n"
     ]
    }
   ],
   "source": [
    "model = Sequential()\n",
    "model.add(LSTM(64,input_shape=(10,50),return_sequences=True))\n",
    "model.add(Dropout(0.4))\n",
    "model.add(LSTM(64,input_shape=(10,50)))\n",
    "model.add(Dropout(0.3))\n",
    "model.add(Dense(5))\n",
    "model.add(Activation('softmax'))\n",
    "model.summary()"
   ]
  },
  {
   "cell_type": "code",
   "execution_count": 64,
   "metadata": {},
   "outputs": [
    {
     "name": "stdout",
     "output_type": "stream",
     "text": [
      "Epoch 1/10\n",
      "132/132 [==============================] - 1s 11ms/step - loss: 1.6062 - acc: 0.2652\n",
      "Epoch 2/10\n",
      "132/132 [==============================] - 0s 689us/step - loss: 1.5293 - acc: 0.3409\n",
      "Epoch 3/10\n",
      "132/132 [==============================] - 0s 1ms/step - loss: 1.5058 - acc: 0.3182\n",
      "Epoch 4/10\n",
      "132/132 [==============================] - 0s 1ms/step - loss: 1.4690 - acc: 0.3182\n",
      "Epoch 5/10\n",
      "132/132 [==============================] - 0s 981us/step - loss: 1.4449 - acc: 0.3106\n",
      "Epoch 6/10\n",
      "132/132 [==============================] - 0s 940us/step - loss: 1.3671 - acc: 0.4091\n",
      "Epoch 7/10\n",
      "132/132 [==============================] - 0s 784us/step - loss: 1.2868 - acc: 0.5606\n",
      "Epoch 8/10\n",
      "132/132 [==============================] - 0s 739us/step - loss: 1.1835 - acc: 0.5455\n",
      "Epoch 9/10\n",
      "132/132 [==============================] - 0s 727us/step - loss: 1.1233 - acc: 0.6212\n",
      "Epoch 10/10\n",
      "132/132 [==============================] - 0s 640us/step - loss: 0.9924 - acc: 0.7121\n"
     ]
    },
    {
     "data": {
      "text/plain": [
       "<keras.callbacks.callbacks.History at 0x136b779fe88>"
      ]
     },
     "execution_count": 64,
     "metadata": {},
     "output_type": "execute_result"
    }
   ],
   "source": [
    "model.compile(optimizer='adam',loss='categorical_crossentropy',metrics=['acc'])\n",
    "model.fit(X_,Y_,epochs=10)"
   ]
  },
  {
   "cell_type": "code",
   "execution_count": 65,
   "metadata": {},
   "outputs": [
    {
     "name": "stdout",
     "output_type": "stream",
     "text": [
      "132/132 [==============================] - 0s 2ms/step\n"
     ]
    },
    {
     "data": {
      "text/plain": [
       "[0.8764923503904631, 0.7878788113594055]"
      ]
     },
     "execution_count": 65,
     "metadata": {},
     "output_type": "execute_result"
    }
   ],
   "source": [
    "model.evaluate(X_,Y_)"
   ]
  },
  {
   "cell_type": "code",
   "execution_count": 66,
   "metadata": {},
   "outputs": [
    {
     "name": "stdout",
     "output_type": "stream",
     "text": [
      "never talk to me again \n",
      " 😓 \n",
      " 😓\n",
      "I am proud of your achievements \n",
      " 😁 \n",
      " 😁\n",
      "It is the worst day in my life \n",
      " 😓 \n",
      " 😓\n",
      "Miss you so much \n",
      " ❤️ \n",
      " ❤️\n",
      "food is life \n",
      " 🍴 \n",
      " 🍴\n",
      "I love you mum \n",
      " ❤️ \n",
      " ❤️\n",
      "Stop saying bullshit \n",
      " 😓 \n",
      " 😓\n",
      "congratulations on your acceptance \n",
      " 😁 \n",
      " 😁\n",
      "The assignment is too long  \n",
      " 😓 \n",
      " 😓\n",
      "I want to go play \n",
      " ⚾ \n",
      " ⚾\n"
     ]
    }
   ],
   "source": [
    "y_Pred = model.predict_classes(X_)\n",
    "\n",
    "## Visulizing the emoji\n",
    "for i in range(10):\n",
    "    print(X[i],\"\\n\",emoji.emojize(emoji_dictionary[str(y_Pred[i])]),\"\\n\",emoji.emojize(emoji_dictionary[str(Y[i])]))"
   ]
  },
  {
   "cell_type": "code",
   "execution_count": 67,
   "metadata": {},
   "outputs": [],
   "source": [
    "model.save_weights('model.h5')"
   ]
  },
  {
   "cell_type": "code",
   "execution_count": 68,
   "metadata": {},
   "outputs": [
    {
     "name": "stdout",
     "output_type": "stream",
     "text": [
      "132/132 [==============================] - 0s 176us/step\n"
     ]
    },
    {
     "data": {
      "text/plain": [
       "[0.8764923503904631, 0.7878788113594055]"
      ]
     },
     "execution_count": 68,
     "metadata": {},
     "output_type": "execute_result"
    }
   ],
   "source": [
    "model.load_weights('model.h5')\n",
    "model.evaluate(X_,Y_)"
   ]
  },
  {
   "cell_type": "code",
   "execution_count": null,
   "metadata": {},
   "outputs": [],
   "source": []
  }
 ],
 "metadata": {
  "kernelspec": {
   "display_name": "Python 3",
   "language": "python",
   "name": "python3"
  },
  "language_info": {
   "codemirror_mode": {
    "name": "ipython",
    "version": 3
   },
   "file_extension": ".py",
   "mimetype": "text/x-python",
   "name": "python",
   "nbconvert_exporter": "python",
   "pygments_lexer": "ipython3",
   "version": "3.7.4"
  }
 },
 "nbformat": 4,
 "nbformat_minor": 2
}
