{
 "cells": [
  {
   "cell_type": "markdown",
   "metadata": {},
   "source": [
    "#### Linear regressor for more than one feature"
   ]
  },
  {
   "cell_type": "code",
   "execution_count": 5,
   "metadata": {},
   "outputs": [
    {
     "name": "stdout",
     "output_type": "stream",
     "text": [
      "<class 'pandas.core.frame.DataFrame'>\n",
      "\n",
      "\n",
      "\n",
      " The summary of the data\n",
      "         feature_1    feature_2    feature_3    feature_4    feature_5  \\\n",
      "count  1600.000000  1600.000000  1600.000000  1600.000000  1600.000000   \n",
      "mean      0.004114    -0.027604    -0.044459    -0.042408     0.012005   \n",
      "std       0.997338     1.021776     1.011768     1.017189     0.978654   \n",
      "min      -3.380125    -3.314844    -3.153118    -3.250169    -2.851707   \n",
      "25%      -0.647165    -0.705030    -0.706385    -0.709504    -0.615880   \n",
      "50%      -0.000360    -0.043769    -0.041272    -0.029756    -0.013527   \n",
      "75%       0.682118     0.645442     0.639130     0.646290     0.650089   \n",
      "max       3.287205     3.438895     3.216176     2.985410     3.321770   \n",
      "\n",
      "            target  \n",
      "count  1600.000000  \n",
      "mean      0.318835  \n",
      "std     110.741562  \n",
      "min    -379.829794  \n",
      "25%     -71.897040  \n",
      "50%      -0.610665  \n",
      "75%      71.226603  \n",
      "max     337.643014  \n",
      "\n",
      "\n",
      "\n",
      " <class 'numpy.ndarray'>\n"
     ]
    }
   ],
   "source": [
    "# Import the data from the dataset using the pandas module\n",
    "import pandas as pds\n",
    "uncleaned_data = pds.read_csv('Train.csv')\n",
    "print(type(uncleaned_data))\n",
    "\n",
    "print(\"\\n\\n\\n The summary of the data\")\n",
    "print(uncleaned_data.describe())\n",
    "\n",
    "#Extracting the data from the frame\n",
    "data = uncleaned_data.values\n",
    "print(\"\\n\\n\\n\",type(data))"
   ]
  },
  {
   "cell_type": "code",
   "execution_count": 7,
   "metadata": {},
   "outputs": [
    {
     "name": "stdout",
     "output_type": "stream",
     "text": [
      "The shape of the X is (1600, 5)\n",
      "The shape of the Y is (1600,)\n"
     ]
    }
   ],
   "source": [
    "## Using the stastical data analysis we can do the standardization and we need to perform the rescaling\n",
    "\n",
    "##Since as shown above the mean is already 0 and std is 1 so we move ahead\n",
    "X = data[:,0:5]\n",
    "Y = data[:,5]\n",
    "\n",
    "print(\"The shape of the X is {}\".format(X.shape))\n",
    "print(\"The shape of the Y is {}\".format(Y.shape))"
   ]
  },
  {
   "cell_type": "code",
   "execution_count": 69,
   "metadata": {},
   "outputs": [],
   "source": [
    "## Prepare model\n",
    "\n",
    "import numpy as np\n",
    "\n",
    "class LinearRegressor:\n",
    "    def __init__(self,X,Y):\n",
    "        \"\"\"Initialize the data variables\"\"\"\n",
    "        self.X = X\n",
    "        self.Y = Y\n",
    "        self.theta = None ##Decide while traning\n",
    "    \n",
    "    def makeXSutiable(self):\n",
    "        \"\"\"Append the one to the X\"\"\"\n",
    "        one = np.ones((self.X.shape[0],1))\n",
    "        self.X = np.hstack((one,self.X))\n",
    "        return\n",
    "    \n",
    "    def makeXSutiableXTest(self,XTest):\n",
    "        \"\"\"Append the one to the X\"\"\"\n",
    "        one = np.ones((1,))\n",
    "        XTest = np.hstack((one,XTest))\n",
    "        return XTest\n",
    "    \n",
    "    def hypothesis(self,x):\n",
    "        \"\"\"Return the prediction on the current value\"\"\"\n",
    "        # x = (1*n) theta = (1*n)\n",
    "        theta = self.theta\n",
    "        return np.dot(x,theta)\n",
    "    \n",
    "    def errorFn(self):\n",
    "        \"\"\"Return the error\"\"\"\n",
    "        X = self.X\n",
    "        Y = self.Y\n",
    "        error = 0.0\n",
    "        for i in range(X.shape[0]):\n",
    "            error += (self.hypothesis(X[i]) - Y[i])**2\n",
    "        return error/X.shape[0]\n",
    "    \n",
    "    def gradientDescent(self,learning_rate):\n",
    "        \"\"\"Implement the gradient descent equation\"\"\"\n",
    "        numberOfFeatures = self.theta.shape[0]\n",
    "        grad = np.zeros((numberOfFeatures,1))\n",
    "        \n",
    "        X = self.X\n",
    "        Y = self.Y\n",
    "        \n",
    "        for i in range(numberOfFeatures):\n",
    "            for j in range(X.shape[0]):\n",
    "                grad[i] += (self.hypothesis(X[j]) - Y[j])*X[j][i]\n",
    "        \n",
    "        grad = grad/X.shape[0]\n",
    "        \n",
    "        self.theta -= learning_rate*grad\n",
    "        return\n",
    "    \n",
    "    def fit(self,learning_rate=0.1):\n",
    "        \"\"\"Train the model\"\"\"\n",
    "        currItr = 0\n",
    "        itr = 300\n",
    "        \n",
    "        self.makeXSutiable()\n",
    "        ##Initialize the theta\n",
    "        self.theta = np.zeros((self.X.shape[1],1))\n",
    "        \n",
    "        errorList = []\n",
    "        while currItr<=itr:\n",
    "            errorList.append(self.errorFn())\n",
    "            self.gradientDescent(learning_rate)\n",
    "            currItr += 1\n",
    "        return errorList,self.theta\n",
    "    \n",
    "    def verifyModelByError(self,errorList):\n",
    "        \"\"\"Help in checking if error is reducing\"\"\"\n",
    "        import matplotlib.pyplot as plt\n",
    "        plt.style.use(\"seaborn\") ##My fav\n",
    "        plt.plot(errorList)\n",
    "        plt.title(\"Error plot\")\n",
    "        plt.xlabel(\"Iteration number\")\n",
    "        plt.ylabel(\"Error\")\n",
    "        plt.show()\n",
    "        return\n",
    "    \n",
    "    def predict(self,xTest):\n",
    "        \"\"\"Return the prediction\"\"\"\n",
    "        xtest = self.makeXSutiableXTest(xTest)\n",
    "        print(xtest)\n",
    "        return self.hypothesis(xtest)"
   ]
  },
  {
   "cell_type": "code",
   "execution_count": 78,
   "metadata": {},
   "outputs": [
    {
     "data": {
      "image/png": "[encoded data removed]",
      "text/plain": [
       "<Figure size 576x396 with 1 Axes>"
      ]
     },
     "metadata": {},
     "output_type": "display_data"
    }
   ],
   "source": [
    "lr = LinearRegressor(X,Y)\n",
    "errorList,theta = lr.fit()\n",
    "lr.verifyModelByError(errorList)"
   ]
  },
  {
   "cell_type": "code",
   "execution_count": null,
   "metadata": {},
   "outputs": [],
   "source": []
  }
 ],
 "metadata": {
  "kernelspec": {
   "display_name": "Python 3",
   "language": "python",
   "name": "python3"
  },
  "language_info": {
   "codemirror_mode": {
    "name": "ipython",
    "version": 3
   },
   "file_extension": ".py",
   "mimetype": "text/x-python",
   "name": "python",
   "nbconvert_exporter": "python",
   "pygments_lexer": "ipython3",
   "version": "3.7.4"
  }
 },
 "nbformat": 4,
 "nbformat_minor": 2
}
