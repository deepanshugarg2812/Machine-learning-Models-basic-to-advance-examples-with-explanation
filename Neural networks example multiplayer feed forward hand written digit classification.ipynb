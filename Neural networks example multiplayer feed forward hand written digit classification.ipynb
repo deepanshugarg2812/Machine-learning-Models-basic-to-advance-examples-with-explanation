{
 "cells": [
  {
   "cell_type": "markdown",
   "metadata": {},
   "source": [
    "#### Neural Networks"
   ]
  },
  {
   "cell_type": "code",
   "execution_count": 62,
   "metadata": {},
   "outputs": [],
   "source": [
    "### Extracting the dataset\n",
    "from sklearn.datasets import load_digits\n",
    "import numpy as np\n",
    "### Traning the neural network\n",
    "from keras.models import Sequential\n",
    "from keras.layers import Dense,Input\n",
    "from keras.utils import np_utils"
   ]
  },
  {
   "cell_type": "code",
   "execution_count": 82,
   "metadata": {},
   "outputs": [
    {
     "name": "stdout",
     "output_type": "stream",
     "text": [
      "(1797, 64) <class 'numpy.ndarray'>\n"
     ]
    }
   ],
   "source": [
    "ld = load_digits()\n",
    "X = ld.data\n",
    "Y = ld.target\n",
    "Y_act = Y\n",
    "print(X.shape,type(Y))"
   ]
  },
  {
   "cell_type": "code",
   "execution_count": 64,
   "metadata": {},
   "outputs": [
    {
     "data": {
      "image/png": "[encoded data removed]",
      "text/plain": [
       "<Figure size 576x396 with 1 Axes>"
      ]
     },
     "metadata": {},
     "output_type": "display_data"
    }
   ],
   "source": [
    "### Visulizing\n",
    "import matplotlib.pyplot as plt\n",
    "plt.style.use(\"seaborn\")\n",
    "plt.imshow(X[0].reshape((8,8)))\n",
    "plt.axis(\"off\")\n",
    "plt.show()"
   ]
  },
  {
   "cell_type": "code",
   "execution_count": 65,
   "metadata": {},
   "outputs": [
    {
     "name": "stdout",
     "output_type": "stream",
     "text": [
      "Model: \"digit_classifier\"\n",
      "_________________________________________________________________\n",
      "Layer (type)                 Output Shape              Param #   \n",
      "=================================================================\n",
      "dense_13 (Dense)             (1, 128)                  8320      \n",
      "_________________________________________________________________\n",
      "dense_14 (Dense)             (1, 64)                   8256      \n",
      "_________________________________________________________________\n",
      "dense_15 (Dense)             (1, 32)                   2080      \n",
      "_________________________________________________________________\n",
      "dense_16 (Dense)             (1, 10)                   330       \n",
      "=================================================================\n",
      "Total params: 18,986\n",
      "Trainable params: 18,986\n",
      "Non-trainable params: 0\n",
      "_________________________________________________________________\n"
     ]
    }
   ],
   "source": [
    "### Traning the neural network\n",
    "model = Sequential(name='digit_classifier')\n",
    "model.add(Dense(128,activation='relu'))\n",
    "model.add(Dense(64,activation='relu'))\n",
    "model.add(Dense(32,activation='relu'))\n",
    "model.add(Dense(10,activation='softmax'))\n",
    "model.build(input_shape=(1,64))\n",
    "model.summary()"
   ]
  },
  {
   "cell_type": "code",
   "execution_count": 66,
   "metadata": {},
   "outputs": [
    {
     "name": "stdout",
     "output_type": "stream",
     "text": [
      "(1797, 10)\n"
     ]
    }
   ],
   "source": [
    "### MAking the one hot vector\n",
    "Y = np_utils.to_categorical(Y)\n",
    "print(Y.shape)"
   ]
  },
  {
   "cell_type": "code",
   "execution_count": 67,
   "metadata": {},
   "outputs": [
    {
     "name": "stdout",
     "output_type": "stream",
     "text": [
      "Train on 1437 samples, validate on 360 samples\n",
      "Epoch 1/10\n",
      "1437/1437 [==============================] - 0s 227us/step - loss: 1.6694 - val_loss: 0.7699\n",
      "Epoch 2/10\n",
      "1437/1437 [==============================] - 0s 80us/step - loss: 0.3066 - val_loss: 0.4801\n",
      "Epoch 3/10\n",
      "1437/1437 [==============================] - 0s 84us/step - loss: 0.1340 - val_loss: 0.3987\n",
      "Epoch 4/10\n",
      "1437/1437 [==============================] - 0s 84us/step - loss: 0.0846 - val_loss: 0.3656\n",
      "Epoch 5/10\n",
      "1437/1437 [==============================] - 0s 83us/step - loss: 0.0514 - val_loss: 0.3346\n",
      "Epoch 6/10\n",
      "1437/1437 [==============================] - 0s 109us/step - loss: 0.0410 - val_loss: 0.2943\n",
      "Epoch 7/10\n",
      "1437/1437 [==============================] - 0s 99us/step - loss: 0.0334 - val_loss: 0.3412\n",
      "Epoch 8/10\n",
      "1437/1437 [==============================] - 0s 101us/step - loss: 0.0282 - val_loss: 0.3252\n",
      "Epoch 9/10\n",
      "1437/1437 [==============================] - 0s 106us/step - loss: 0.0182 - val_loss: 0.3039\n",
      "Epoch 10/10\n",
      "1437/1437 [==============================] - 0s 98us/step - loss: 0.0095 - val_loss: 0.3183\n"
     ]
    }
   ],
   "source": [
    "model.compile(optimizer='adam',loss='categorical_crossentropy')\n",
    "hist = model.fit(X,Y,epochs=10,batch_size=32,validation_split=0.2)"
   ]
  },
  {
   "cell_type": "code",
   "execution_count": 68,
   "metadata": {},
   "outputs": [
    {
     "data": {
      "image/png": "[encoded data removed]",
      "text/plain": [
       "<Figure size 576x396 with 1 Axes>"
      ]
     },
     "metadata": {},
     "output_type": "display_data"
    }
   ],
   "source": [
    "val_loss = hist.history['val_loss']\n",
    "loss = hist.history['loss']\n",
    "\n",
    "plt.style.use(\"seaborn\")\n",
    "plt.plot(val_loss,color='red',label='val_loss')\n",
    "plt.plot(loss,color='yellow',label='loss')\n",
    "plt.legend()\n",
    "plt.show()"
   ]
  },
  {
   "cell_type": "code",
   "execution_count": 84,
   "metadata": {},
   "outputs": [
    {
     "name": "stdout",
     "output_type": "stream",
     "text": [
      "The accutracy of the model is 0.9849749582637729\n"
     ]
    }
   ],
   "source": [
    "## Prediction of accuracy\n",
    "y_Pred = model.predict_classes(X)\n",
    "\n",
    "acc = 0\n",
    "for i in range(len(y_Pred)):\n",
    "    if y_Pred[i]==Y_act[i]:\n",
    "        acc += 1\n",
    "print(\"The accutracy of the model is {}\".format(acc/len(y_Pred)))"
   ]
  },
  {
   "cell_type": "code",
   "execution_count": null,
   "metadata": {},
   "outputs": [],
   "source": []
  }
 ],
 "metadata": {
  "kernelspec": {
   "display_name": "Python 3",
   "language": "python",
   "name": "python3"
  },
  "language_info": {
   "codemirror_mode": {
    "name": "ipython",
    "version": 3
   },
   "file_extension": ".py",
   "mimetype": "text/x-python",
   "name": "python",
   "nbconvert_exporter": "python",
   "pygments_lexer": "ipython3",
   "version": "3.7.4"
  }
 },
 "nbformat": 4,
 "nbformat_minor": 2
}
